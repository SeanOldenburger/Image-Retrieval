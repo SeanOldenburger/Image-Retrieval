{
 "cells": [
  {
   "cell_type": "markdown",
   "metadata": {},
   "source": [
    "## Oxford5k dataset:"
   ]
  },
  {
   "cell_type": "code",
   "execution_count": 62,
   "metadata": {},
   "outputs": [
    {
     "data": {
      "application/vnd.jupyter.widget-view+json": {
       "model_id": "2da15a2230604acb8d8d2fdba4da57af",
       "version_major": 2,
       "version_minor": 0
      },
      "text/plain": [
       "VBox(children=(Label(value='Image Retrieval Oxford5k:'), FileUpload(value={}, description='Upload'), Button(de…"
      ]
     },
     "metadata": {},
     "output_type": "display_data"
    }
   ],
   "source": [
    "train_bovw, test_bovw, train_colour_images, train_names = load_oxford_data()\n",
    "\n",
    "btn_upload = widgets.FileUpload()\n",
    "btn_show = widgets.Button(description='Display Image:')\n",
    "btn_run = widgets.Button(description='Retrieve Images:')\n",
    "btn_show.on_click(find_image)\n",
    "btn_run.on_click(retrieve_image)\n",
    "out_pl = widgets.Output()\n",
    "out_pl.clear_output()\n",
    "\n",
    "VBox([widgets.Label('Image Retrieval Oxford5k:'), btn_upload, btn_show, btn_run, out_pl])"
   ]
  },
  {
   "cell_type": "markdown",
   "metadata": {},
   "source": [
    "## MPEG7 dataset:"
   ]
  },
  {
   "cell_type": "code",
   "execution_count": 63,
   "metadata": {},
   "outputs": [
    {
     "data": {
      "application/vnd.jupyter.widget-view+json": {
       "model_id": "a271d914fcf545c09cf1dcf7fbde906f",
       "version_major": 2,
       "version_minor": 0
      },
      "text/plain": [
       "VBox(children=(Label(value='Image Retrieval MPEG7:'), FileUpload(value={}, description='Upload'), Button(descr…"
      ]
     },
     "metadata": {},
     "output_type": "display_data"
    }
   ],
   "source": [
    "mpeg_images, filenames, pixel_values = load_mpeg_data()\n",
    "\n",
    "btn_upload_mpeg = widgets.FileUpload()\n",
    "btn_show_mpeg = widgets.Button(description='Display Image:')\n",
    "btn_run_mpeg = widgets.Button(description='Retrieve Images:')\n",
    "btn_show_mpeg.on_click(find_mpeg_image)\n",
    "btn_run_mpeg.on_click(retrieve_mpeg_image)\n",
    "out_pl_mpeg = widgets.Output()\n",
    "out_pl_mpeg.clear_output()\n",
    "\n",
    "VBox([widgets.Label('Image Retrieval MPEG7:'), btn_upload_mpeg, btn_show_mpeg, btn_run_mpeg, out_pl_mpeg])"
   ]
  },
  {
   "cell_type": "markdown",
   "metadata": {},
   "source": [
    "## "
   ]
  },
  {
   "cell_type": "markdown",
   "metadata": {},
   "source": [
    "## "
   ]
  },
  {
   "cell_type": "markdown",
   "metadata": {},
   "source": [
    "## "
   ]
  },
  {
   "cell_type": "markdown",
   "metadata": {},
   "source": [
    "## "
   ]
  },
  {
   "cell_type": "markdown",
   "metadata": {},
   "source": [
    "## "
   ]
  },
  {
   "cell_type": "markdown",
   "metadata": {},
   "source": [
    "## "
   ]
  },
  {
   "cell_type": "markdown",
   "metadata": {},
   "source": [
    "## "
   ]
  },
  {
   "cell_type": "markdown",
   "metadata": {},
   "source": [
    "## "
   ]
  },
  {
   "cell_type": "markdown",
   "metadata": {},
   "source": [
    "## "
   ]
  },
  {
   "cell_type": "markdown",
   "metadata": {},
   "source": [
    "## "
   ]
  },
  {
   "cell_type": "markdown",
   "metadata": {},
   "source": [
    "## "
   ]
  },
  {
   "cell_type": "markdown",
   "metadata": {},
   "source": [
    "## "
   ]
  },
  {
   "cell_type": "markdown",
   "metadata": {},
   "source": [
    "## "
   ]
  },
  {
   "cell_type": "markdown",
   "metadata": {},
   "source": [
    "## "
   ]
  },
  {
   "cell_type": "markdown",
   "metadata": {},
   "source": [
    "## "
   ]
  },
  {
   "cell_type": "markdown",
   "metadata": {},
   "source": [
    "## "
   ]
  },
  {
   "cell_type": "markdown",
   "metadata": {},
   "source": [
    "## "
   ]
  },
  {
   "cell_type": "markdown",
   "metadata": {},
   "source": [
    "## "
   ]
  },
  {
   "cell_type": "code",
   "execution_count": 53,
   "metadata": {},
   "outputs": [],
   "source": [
    "import numpy as np \n",
    "import cv2\n",
    "import os\n",
    "import matplotlib.pyplot as plt\n",
    "from PIL import Image\n",
    "from sklearn.metrics.pairwise import euclidean_distances\n",
    "from fastai.vision.widgets import *\n",
    "from fastai.vision.all import *"
   ]
  },
  {
   "cell_type": "code",
   "execution_count": 54,
   "metadata": {},
   "outputs": [],
   "source": [
    "def load_test_data(images_path, gt_path):\n",
    "    test_images_path = []\n",
    "    test_names = []\n",
    "    test_gray_images = []\n",
    "    test_colour_images = []\n",
    "    \n",
    "    for filename in sorted(os.listdir(gt_path)):\n",
    "        if filename.endswith(\"query.txt\"):\n",
    "\n",
    "            # Saving filename\n",
    "            tmp = filename.split(\".\")[0].split(\"_\")\n",
    "            if len(tmp) == 4:\n",
    "                name = tmp[0]+\"_\"+tmp[1]\n",
    "            elif len(tmp) == 3:\n",
    "                name = tmp[0]\n",
    "            test_names.append(name)\n",
    "\n",
    "            # Reading the image number to be saved\n",
    "            with open(os.path.join(gt_path, filename), \"r\") as f:\n",
    "                line = f.readline()\n",
    "                test_images_path.append(line.split(\" \")[0])\n",
    "\n",
    "    for path in test_images_path:\n",
    "        image = cv2.imread(os.path.join(images_path, path[5:]) + \".jpg\")\n",
    "        gray_image = cv2.cvtColor(image, cv2.COLOR_BGR2GRAY)\n",
    "        test_gray_images.append(gray_image)\n",
    "        test_colour_images.append(image)\n",
    "    \n",
    "    #print(\"Loaded in {} Images!\".format(len(test_gray_images)))\n",
    "    \n",
    "    return test_gray_images, test_colour_images, test_names"
   ]
  },
  {
   "cell_type": "code",
   "execution_count": 55,
   "metadata": {},
   "outputs": [],
   "source": [
    "def load_train_data(images_path, gt_path):\n",
    "    train_names = []\n",
    "    train_images_path = []\n",
    "    train_gray_images = []\n",
    "    train_colour_images = []\n",
    "\n",
    "    all_image_names = []\n",
    "\n",
    "    for filename in sorted(os.listdir(gt_path)):\n",
    "        if filename.endswith(\"good.txt\") or filename.endswith(\"ok.txt\"):\n",
    "\n",
    "            # Saving filenames\n",
    "            tmp = filename.split(\".\")[0].split(\"_\")\n",
    "            if len(tmp) == 4:\n",
    "                name = tmp[0]+\"_\"+tmp[1]\n",
    "            elif len(tmp) == 3:\n",
    "                name = tmp[0]\n",
    "\n",
    "            # Saving image paths\n",
    "            with open(os.path.join(gt_path, filename), \"r\") as f:\n",
    "                line = f.readlines()\n",
    "                for i in range(len(line)):\n",
    "                    line[i] = line[i][:-1]\n",
    "                    # Check if image has already been added:\n",
    "                    if line[i] not in all_image_names:\n",
    "                        # Append this many names\n",
    "                        train_names.append(name)\n",
    "                        train_images_path.append(line[i])\n",
    "                        all_image_names.append(line[i])\n",
    "\n",
    "    for path in train_images_path:\n",
    "        image = cv2.imread(os.path.join(images_path, path) + \".jpg\")\n",
    "        gray_image = cv2.cvtColor(image, cv2.COLOR_BGR2GRAY)\n",
    "        train_gray_images.append(gray_image)\n",
    "        train_colour_images.append(image)\n",
    "    \n",
    "    #print(\"Loaded in {} Images!\".format(len(train_gray_images)))\n",
    "    \n",
    "    return train_gray_images, train_colour_images, train_names"
   ]
  },
  {
   "cell_type": "code",
   "execution_count": 56,
   "metadata": {},
   "outputs": [],
   "source": [
    "def load_MPEG7_data(folder, image_type, gray=False):\n",
    "    images = []\n",
    "    filenames = []\n",
    "    y = []\n",
    "    category, idx = \"none\", 0\n",
    "    for filename in sorted(os.listdir(folder)):\n",
    "        if filename.endswith(image_type):\n",
    "            if image_type == \".gif\":\n",
    "                gif_image = cv2.VideoCapture(os.path.join(folder, filename))\n",
    "                ret, frame = gif_image.read()\n",
    "                image = Image.fromarray(frame)\n",
    "                image = image.resize((64, 64), Image.ANTIALIAS)\n",
    "                image = np.array(image)\n",
    "            else:\n",
    "                image = cv2.imread(os.path.join(folder, filename))\n",
    "            if gray:\n",
    "                gray_image = image\n",
    "            else:\n",
    "                gray_image = cv2.cvtColor(image, cv2.COLOR_BGR2GRAY)\n",
    "            if gray_image is not None:\n",
    "                images.append(gray_image)\n",
    "                split_name = filename.split('_')\n",
    "                if len(split_name) == 3:\n",
    "                    fname = filename.split('_')[0] + \"_\" + filename.split('_')[1]\n",
    "                elif len(split_name) == 2:\n",
    "                    fname = filename.split('_')[0]\n",
    "                elif len(split_name) == 1:\n",
    "                    fname = filename.split('-')[0]\n",
    "                filenames.append(fname)\n",
    "                if filename.startswith(category):\n",
    "                    y.append(idx)\n",
    "                else:\n",
    "                    split = filename.split('_')\n",
    "                    if len(split) == 3:\n",
    "                        category = filename.split('_')[0] + \"_\" + filename.split('_')[1]\n",
    "                    elif len(split) == 2:\n",
    "                        category = filename.split('_')[0]\n",
    "                    idx = idx + 1\n",
    "                    y.append(idx)\n",
    "    #print(len(images), \"Images loaded successfully!\")\n",
    "    return images, filenames"
   ]
  },
  {
   "cell_type": "code",
   "execution_count": 57,
   "metadata": {},
   "outputs": [],
   "source": [
    "def find_pixel_values(test_gray_images, train_gray_images):\n",
    "    test_pixels = []\n",
    "    for image in test_gray_images:\n",
    "        img = Image.fromarray(image)\n",
    "        img = img.resize((100,100))\n",
    "        img = np.array(img)\n",
    "        img = img.reshape((10000,))\n",
    "        test_pixels.append(img)\n",
    "\n",
    "    train_pixels = []\n",
    "    for image in train_gray_images:\n",
    "        img = Image.fromarray(image)\n",
    "        img = img.resize((100,100))\n",
    "        img = np.array(img)\n",
    "        img = img.reshape((10000,))\n",
    "        train_pixels.append(img)\n",
    "    \n",
    "    return test_pixels, train_pixels"
   ]
  },
  {
   "cell_type": "code",
   "execution_count": 58,
   "metadata": {},
   "outputs": [],
   "source": [
    "def mpeg_find_pixel_values(images):\n",
    "    tmp = []\n",
    "    for image in images:\n",
    "        im = np.asarray(image)\n",
    "        im = im.reshape((4096,))\n",
    "        tmp.append(im)\n",
    "    pixel_values = np.array(tmp)\n",
    "    return pixel_values"
   ]
  },
  {
   "cell_type": "code",
   "execution_count": 59,
   "metadata": {},
   "outputs": [],
   "source": [
    "def image_retrieval_k(train_data, test_data, train_names, test_names, train_images_as_array, test_images_as_array, k=20, view_option=0, image_size=(32,32)):\n",
    "    avg_precisions = []\n",
    "    avg_recalls = []\n",
    "    precisionsatk = []\n",
    "    count = 0\n",
    "    \n",
    "    for idx, query in enumerate(test_data):\n",
    "        \n",
    "        all_precisions = []\n",
    "        all_recalls = []\n",
    "        precisions = []\n",
    "        recalls = []\n",
    "\n",
    "        # Finding the euclidean distance from the query image and sorting them into index\n",
    "        query = query.reshape((1, -1))\n",
    "        D = euclidean_distances(train_data, query).squeeze()\n",
    "        index = np.argsort(D)\n",
    "        \n",
    "        # Finding the index of the last correct image in the sorted index to iter to\n",
    "        last_correct_image_idx = 0\n",
    "        for i in range(len(index)):\n",
    "            if train_names[index[i]] == test_names[idx]:\n",
    "                last_correct_image_idx = i\n",
    "        \n",
    "        # make sure we iter to k (for precision@k) if all correct images are found before k\n",
    "        if k > last_correct_image_idx:\n",
    "            last_correct_image_idx = k+1\n",
    "        \n",
    "        # Itering through all images untill we get to k or last correct image to compute AP\n",
    "        for kk in range(1, last_correct_image_idx+2):\n",
    "            TP = 0\n",
    "            FP = 0\n",
    "            FN = 0\n",
    "            \n",
    "            # Finding the correct amount of images in the training set\n",
    "            correct_count = 0\n",
    "            for ind in index:\n",
    "                if train_names[ind] == test_names[idx]:\n",
    "                    correct_count += 1\n",
    "            sized_index = index[:kk]\n",
    "            \n",
    "            # Find TP FP FN\n",
    "            for ind in sized_index:\n",
    "                if train_names[ind] == test_names[idx]:\n",
    "                    TP += 1\n",
    "                else:\n",
    "                    FP += 1\n",
    "            FN = correct_count - TP\n",
    "            \n",
    "            # If we want to view the images then we run this code, else its a waste of computational time\n",
    "            if view_option == 1:\n",
    "                # Creating image of k images (including query image at start)\n",
    "                tmp = [query.reshape(image_size)]\n",
    "                for ind in sized_index[:k]:\n",
    "                    tmp.append(train_data[ind].reshape(image_size))\n",
    "                output = np.array(tmp)*255\n",
    "                output = output.transpose(1, 0, 2)\n",
    "                output = output.reshape((image_size[0], -1))\n",
    "                im_query = Image.fromarray(output)\n",
    "            \n",
    "            # If the last k image is a correct image we add precision to the list\n",
    "            if train_names[sized_index[-1]] == test_names[idx]:\n",
    "                precisions.append(TP/(TP+FP))\n",
    "                recalls.append(TP/(TP+FN))\n",
    "\n",
    "            # Adding all precisions and recalls to a seperate list\n",
    "            all_precisions.append(TP/(TP+FP))\n",
    "            if TP+FN != 0:\n",
    "                all_recalls.append(TP/(TP+FN))\n",
    "        \n",
    "     \n",
    "        # Solving AP, AR and precision@k\n",
    "        avg_precisions.append(np.average(precisions))\n",
    "        avg_recalls.append(np.average(all_recalls))\n",
    "        precisionsatk.append(all_precisions[k-1])\n",
    "        \n",
    "        # Set a viewing option, if 1 we print out the following:\n",
    "        if view_option == 1:\n",
    "            display(im_query) \n",
    "            print(\"Label: {}\".format(test_names[idx]))\n",
    "            print(\"Average Precision for query {}: \".format(idx), avg_precisions[-1])\n",
    "            print(\"Precision@k for query {}: \".format(idx), precisionsatk[-1])\n",
    "            print(\"\\n\")\n",
    "        elif view_option == 0:\n",
    "            count += 1 \n",
    "            print(\"Percentage Complete: {}\".format(round((count/len(test_data))*100),2), end=\"\\r\")\n",
    "        elif view_option == 2:\n",
    "            # Allowing a view_option 2 -> for viewing top k images from non_pixel value inputs\n",
    "            # creating an array of the top k similar images\n",
    "            top_k_images = [test_images_as_array[idx]]\n",
    "            for i in range(0,k):\n",
    "                top_k_images.append(train_images_as_array[index[i]])\n",
    "\n",
    "            fig, axes = plt.subplots(1, k+1, figsize=(250/k, 250/k))\n",
    "            for i, (image, ax) in enumerate(zip(top_k_images, axes.ravel())):\n",
    "                image = cv2.cvtColor(image, cv2.COLOR_BGR2RGB)####\n",
    "                ax.imshow(image, cmap=\"gray\")\n",
    "                if i == 0:\n",
    "                    ax.set_title(\"Query: {}\".format(test_names[idx]))\n",
    "                else:\n",
    "                    ax.set_title(train_names[sized_index[i-1]])\n",
    "                ax.axis(\"off\")\n",
    "            plt.show()\n",
    "            #print(\"Label: {}\".format(test_names[idx]))\n",
    "            print(\"Average Precision for query {}: \".format(idx), avg_precisions[-1])\n",
    "            print(\"Precision@k for query {}: \".format(idx), precisionsatk[-1])\n",
    "            print(\"\\n\")\n",
    "        \n",
    "    return avg_precisions, avg_recalls, precisionsatk, top_k_images"
   ]
  },
  {
   "cell_type": "code",
   "execution_count": 60,
   "metadata": {},
   "outputs": [],
   "source": [
    "def load_oxford_data():\n",
    "    # Load in data x No. of words:\n",
    "    train_bovw = np.load(\"SIFT/NPY files for BoVW/bovw files for 100000 Words/BoW_Train.npy\")\n",
    "    test_bovw = np.load(\"SIFT/NPY files for BoVW/bovw files for 100000 Words/BoW_Test.npy\")\n",
    "\n",
    "    # Load in all images (training, testing)\n",
    "    images_path = r\"C:\\Users\\Sean\\Desktop\\Image-Retrival (clean)\\SIFT\\Oxford building images\"\n",
    "    gt_path = r\"C:\\Users\\Sean\\Desktop\\Image-Retrival (clean)\\SIFT\\Ground Truth files\"\n",
    "    train_gray_images, train_colour_images, train_names = load_train_data(images_path, gt_path)\n",
    "    \n",
    "    return train_bovw, test_bovw, train_colour_images, train_names\n",
    "\n",
    "def find_image(change):\n",
    "    name = btn_upload.metadata[-1]['name'].split(\"-\")[0].split(\".\")[0]\n",
    "    img = PILImage.create(btn_upload.data[-1])\n",
    "    out_pl.clear_output()\n",
    "    with out_pl: \n",
    "        display(img.to_thumb(128,128))\n",
    "        print(name)\n",
    "\n",
    "def retrieve_image(change):\n",
    "    name = btn_upload.metadata[-1]['name'].split(\"-\")[0].split(\".\")[0]\n",
    "    idx = btn_upload.metadata[-1]['name'].split(\"-\")[-1].split(\".\")[0]\n",
    "    img = PILImage.create(btn_upload.data[-1])\n",
    "    img = np.asarray(img)\n",
    "    img = cv2.cvtColor(img, cv2.COLOR_BGR2RGB)\n",
    "    out_pl.clear_output()\n",
    "    with out_pl:\n",
    "        AP, AR, precisionsatk, top_k_images = image_retrieval_k(train_bovw, test_bovw[int(idx):int(idx)+1], train_names, [name], train_colour_images, [img], 10, 2)"
   ]
  },
  {
   "cell_type": "code",
   "execution_count": 61,
   "metadata": {},
   "outputs": [],
   "source": [
    "def load_mpeg_data():\n",
    "    images_folder = r\"C:\\Users\\Sean\\Desktop\\Image-Retrival (clean)\\MPEG7\\MPEG7\"\n",
    "    mpeg_images, filenames = load_MPEG7_data(images_folder, \".gif\", False)\n",
    "    pixel_values = mpeg_find_pixel_values(mpeg_images)\n",
    "    \n",
    "    return mpeg_images, filenames, pixel_values\n",
    "\n",
    "def find_mpeg_image(change):\n",
    "    name = btn_upload_mpeg.metadata[-1]['name'].split(\"-\")[0]\n",
    "    img = PILImage.create(btn_upload_mpeg.data[-1])\n",
    "    out_pl_mpeg.clear_output()\n",
    "    with out_pl_mpeg: \n",
    "        display(img.to_thumb(128,128))\n",
    "        print(name)\n",
    "\n",
    "def retrieve_mpeg_image(change):\n",
    "    test_name = btn_upload_mpeg.metadata[-1]['name'].split(\"-\")[0]\n",
    "    img = PILImage.create(btn_upload_mpeg.data[-1])\n",
    "    test_image = np.asarray(img)\n",
    "    test_image = cv2.cvtColor(test_image, cv2.COLOR_BGR2GRAY)\n",
    "    test_image = cv2.resize(test_image, (64,64))\n",
    "    test_pixel = test_image.reshape((4096,))\n",
    "    out_pl_mpeg.clear_output()\n",
    "    with out_pl_mpeg:\n",
    "        AP, AR, precisionsatk, top_k_images = image_retrieval_k(pixel_values, [test_pixel], filenames, [test_name], mpeg_images, [test_image], 10, 2)"
   ]
  }
 ],
 "metadata": {
  "kernelspec": {
   "display_name": "Python 3",
   "language": "python",
   "name": "python3"
  },
  "language_info": {
   "codemirror_mode": {
    "name": "ipython",
    "version": 3
   },
   "file_extension": ".py",
   "mimetype": "text/x-python",
   "name": "python",
   "nbconvert_exporter": "python",
   "pygments_lexer": "ipython3",
   "version": "3.8.5"
  }
 },
 "nbformat": 4,
 "nbformat_minor": 4
}
