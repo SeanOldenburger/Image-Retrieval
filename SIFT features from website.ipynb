{
 "cells": [
  {
   "cell_type": "code",
   "execution_count": 2,
   "metadata": {},
   "outputs": [],
   "source": [
    "import os\n",
    "import numpy as np"
   ]
  },
  {
   "cell_type": "code",
   "execution_count": 10,
   "metadata": {},
   "outputs": [],
   "source": [
    "folder = r\"C:\\Users\\Sean\\Desktop\\Image-Retrieval\\Oxford code\\Oxford dataset\\word_oxc1_hesaff_sift_16M_1M\"\n",
    "features = []\n",
    "filenames = []\n",
    "for filename in sorted(os.listdir(folder)):\n",
    "    feature = []\n",
    "    split = filename.split(\"_\")\n",
    "    if len(split) == 4:\n",
    "        filenames.append(split[1]+\"_\"+split[2])\n",
    "    elif len(split) == 3:\n",
    "        filenames.append(split[1])\n",
    "    with open(r\"C:\\Users\\Sean\\Desktop\\Image-Retrieval\\Oxford code\\Oxford dataset\\word_oxc1_hesaff_sift_16M_1M\\\\\" + filename, 'r') as f:\n",
    "        lines = f.readlines()\n",
    "        for i in lines[2:]:\n",
    "            number = i.split(' ')[0]\n",
    "            feature.append(int(number))\n",
    "    features.append(feature)"
   ]
  },
  {
   "cell_type": "code",
   "execution_count": 11,
   "metadata": {},
   "outputs": [],
   "source": [
    "np.save('filenames.npy', filenames)"
   ]
  },
  {
   "cell_type": "code",
   "execution_count": 4,
   "metadata": {},
   "outputs": [
    {
     "name": "stdout",
     "output_type": "stream",
     "text": [
      "5062\n"
     ]
    }
   ],
   "source": [
    "print(len(features))"
   ]
  },
  {
   "cell_type": "code",
   "execution_count": 5,
   "metadata": {},
   "outputs": [
    {
     "name": "stdout",
     "output_type": "stream",
     "text": [
      "6273\n"
     ]
    }
   ],
   "source": [
    "# This image has 6273 different words from the 1M word vocabulary\n",
    "print(len(features[0]))"
   ]
  },
  {
   "cell_type": "code",
   "execution_count": 6,
   "metadata": {},
   "outputs": [],
   "source": [
    "vocab_features = []\n",
    "for i in range(len(features)):\n",
    "    vocab = [0]*1000000\n",
    "    for x in features[i]:\n",
    "        vocab[x-1] = vocab[x-1]+1\n",
    "    vocab_features.append(vocab)"
   ]
  },
  {
   "cell_type": "code",
   "execution_count": 7,
   "metadata": {},
   "outputs": [],
   "source": [
    "np.save('BoW_features_oxford_5k.npy', vocab_features)"
   ]
  },
  {
   "cell_type": "code",
   "execution_count": null,
   "metadata": {},
   "outputs": [],
   "source": []
  }
 ],
 "metadata": {
  "kernelspec": {
   "display_name": "Python 3",
   "language": "python",
   "name": "python3"
  },
  "language_info": {
   "codemirror_mode": {
    "name": "ipython",
    "version": 3
   },
   "file_extension": ".py",
   "mimetype": "text/x-python",
   "name": "python",
   "nbconvert_exporter": "python",
   "pygments_lexer": "ipython3",
   "version": "3.8.5"
  }
 },
 "nbformat": 4,
 "nbformat_minor": 4
}
