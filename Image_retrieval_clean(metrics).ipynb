{
 "cells": [
  {
   "cell_type": "code",
   "execution_count": 3,
   "metadata": {},
   "outputs": [],
   "source": [
    "import numpy as np\n",
    "from PIL import Image\n",
    "import matplotlib.pyplot as plt"
   ]
  },
  {
   "cell_type": "code",
   "execution_count": 4,
   "metadata": {},
   "outputs": [],
   "source": [
    "imgs_array = np.load('imgs_array.npy')\n",
    "y = np.load('y.npy')\n",
    "names = np.load('names.npy')"
   ]
  },
  {
   "cell_type": "code",
   "execution_count": 5,
   "metadata": {},
   "outputs": [],
   "source": [
    "from sklearn.model_selection import train_test_split \n",
    "X_train, X_test, y_train, y_test, names_train, names_test = train_test_split(imgs_array, y, names, test_size=0.2, random_state=42)"
   ]
  },
  {
   "cell_type": "code",
   "execution_count": 24,
   "metadata": {},
   "outputs": [],
   "source": [
    "from sklearn.metrics.pairwise import euclidean_distances\n",
    "\n",
    "def image_retrieval_k(train_data, test_data, train_names, test_names, k=20, hide=0):\n",
    "    avg_precisions = []\n",
    "    avg_recalls = []\n",
    "    all_avg_precisions = []\n",
    "    all_avg_recalls = []\n",
    "    \n",
    "    for idx, query in enumerate(test_data):\n",
    "        \n",
    "        all_precisions = []\n",
    "        all_recalls = []\n",
    "        precisions = []\n",
    "        recalls = []\n",
    "        \n",
    "\n",
    "        query = query.reshape((1, -1))\n",
    "        D = euclidean_distances(train_data, query).squeeze()\n",
    "        index = np.argsort(D)\n",
    "                \n",
    "        for kk in range(1, k+1):\n",
    "            TP = 0\n",
    "            FP = 0\n",
    "            FN = 0\n",
    "            \n",
    "            correct_count = 0\n",
    "            for ind in index:\n",
    "                if train_names[ind] == test_names[idx]:\n",
    "                    correct_count += 1\n",
    "            sized_index = index[:kk]\n",
    "            \n",
    "            tmp = [query.reshape((32,32))]\n",
    "            for ind in sized_index:\n",
    "                tmp.append(train_data[ind].reshape((32,32)))\n",
    "                if train_names[ind] == test_names[idx]:\n",
    "                    TP += 1\n",
    "                else:\n",
    "                    FP += 1\n",
    "            FN = correct_count - TP\n",
    "\n",
    "            output = np.array(tmp)*255\n",
    "            output = output.transpose(1, 0, 2)\n",
    "            output = output.reshape((32, -1))\n",
    "            im_query = Image.fromarray(output)\n",
    "            \n",
    "            # If the last k image is a correct image we add precision to the list\n",
    "            if train_names[sized_index[-1]] == test_names[idx]:\n",
    "                precisions.append(TP/(TP+FP))\n",
    "                recalls.append(TP/(TP+FN))\n",
    "\n",
    "            # Adding all precisions and recalls to a seperate list\n",
    "            all_precisions.append(TP/(TP+FP))\n",
    "            all_recalls.append(TP/(TP+FN))\n",
    "        \n",
    "            if hide == 0:\n",
    "                if train_names[sized_index[-1]] == test_names[idx]:\n",
    "                    print(\"\\nCorrect Image of \", train_names[sized_index[-1]])\n",
    "                print(\"TP: {} \\tFP: {} \\tFN: {}\".format(TP,FP,FN))\n",
    "                print(\"Precision: {} \\t Recall: {}\".format(all_precisions[-1], all_recalls[-1]))\n",
    "                display(im_query) \n",
    "        \n",
    "        # If no correct images found we append a precision of 0 for AP of 0\n",
    "        if precisions == []:\n",
    "            precisions.append(0)\n",
    "            recalls.append(0)\n",
    "            \n",
    "        avg_precisions.append(np.average(precisions))\n",
    "        avg_recalls.append(np.average(recalls))\n",
    "        \n",
    "        if hide == 0:\n",
    "            print(\"\\nAverage Precision for query {}: \".format(idx), avg_precisions[-1])\n",
    "        \n",
    "        all_avg_precisions.append(np.average(all_precisions))\n",
    "        all_avg_recalls.append(np.average(all_recalls))\n",
    "        \n",
    "    return avg_precisions, avg_recalls, all_avg_precisions, all_avg_recalls"
   ]
  },
  {
   "cell_type": "code",
   "execution_count": 25,
   "metadata": {},
   "outputs": [
    {
     "name": "stdout",
     "output_type": "stream",
     "text": [
      "K = 1 mAP = 0.8825622775800712\n",
      "K = 2 mAP = 0.891459074733096\n",
      "K = 3 mAP = 0.8873072360616845\n",
      "K = 4 mAP = 0.8838473705021747\n",
      "K = 5 mAP = 0.8809311981020166\n",
      "K = 6 mAP = 0.8779458283906683\n",
      "K = 7 mAP = 0.8750040953510704\n",
      "K = 8 mAP = 0.8707920772104809\n",
      "K = 9 mAP = 0.8655307464029504\n",
      "K = 10 mAP = 0.8613757947491637\n",
      "K = 11 mAP = 0.857659624953304\n",
      "K = 12 mAP = 0.8538426540042406\n",
      "K = 13 mAP = 0.8506028458601885\n",
      "K = 14 mAP = 0.8477988132901724\n",
      "K = 15 mAP = 0.8422078900604327\n",
      "K = 16 mAP = 0.8389375063002392\n",
      "K = 17 mAP = 0.8366529426402184\n",
      "K = 18 mAP = 0.8343007508920747\n",
      "K = 19 mAP = 0.8309454115702722\n",
      "K = 20 mAP = 0.8289212200558969\n",
      "overall mAP:  0.8599312679355208\n"
     ]
    }
   ],
   "source": [
    "mAP_list = []\n",
    "for k in range(1,21):\n",
    "    avg_precisions, avg_recalls, all_avg_precisions, all_avg_recalls = image_retrieval_k(X_train, X_test, names_train, names_test, k, 1)\n",
    "    mAP_list.append(np.average(avg_precisions))\n",
    "    print(\"K = {} mAP = {}\".format(k, mAP_list[-1]))\n",
    "    \n",
    "mAP = np.average(mAP_list)\n",
    "print(\"overall mAP: \", mAP)"
   ]
  },
  {
   "cell_type": "code",
   "execution_count": 26,
   "metadata": {},
   "outputs": [
    {
     "data": {
      "image/png": "[encoded data removed]",
      "text/plain": [
       "<Figure size 432x288 with 1 Axes>"
      ]
     },
     "metadata": {
      "needs_background": "light"
     },
     "output_type": "display_data"
    }
   ],
   "source": [
    "plt.scatter(all_avg_recalls, all_avg_precisions, color='blue')\n",
    "plt.scatter(avg_recalls, avg_precisions, color='red')\n",
    "plt.xlabel('Recall')\n",
    "plt.ylabel('Precision')\n",
    "plt.title('Recall vs Precision as k increases')\n",
    "plt.show()"
   ]
  },
  {
   "cell_type": "code",
   "execution_count": 44,
   "metadata": {},
   "outputs": [
    {
     "data": {
      "image/png": "[encoded data removed]",
      "text/plain": [
       "<Figure size 432x288 with 1 Axes>"
      ]
     },
     "metadata": {
      "needs_background": "light"
     },
     "output_type": "display_data"
    }
   ],
   "source": [
    "plt.plot(np.linspace(1,20,20), mAP_list)\n",
    "plt.xlabel('k value')\n",
    "plt.ylabel('mAP')\n",
    "plt.title('mAP as k increases')\n",
    "plt.show()"
   ]
  },
  {
   "cell_type": "code",
   "execution_count": null,
   "metadata": {},
   "outputs": [],
   "source": []
  }
 ],
 "metadata": {
  "kernelspec": {
   "display_name": "Python 3",
   "language": "python",
   "name": "python3"
  },
  "language_info": {
   "codemirror_mode": {
    "name": "ipython",
    "version": 3
   },
   "file_extension": ".py",
   "mimetype": "text/x-python",
   "name": "python",
   "nbconvert_exporter": "python",
   "pygments_lexer": "ipython3",
   "version": "3.8.5"
  }
 },
 "nbformat": 4,
 "nbformat_minor": 4
}
